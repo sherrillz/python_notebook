{
 "cells": [
  {
   "cell_type": "markdown",
   "metadata": {},
   "source": [
    "\n",
    "# Data Manipulating with Python\n",
    "Set up some basic packages:"
   ]
  },
  {
   "cell_type": "code",
   "execution_count": null,
   "metadata": {},
   "outputs": [],
   "source": [
    "import pandas as pd\n",
    "import numpy as np\n",
    "import matplotlib.pyplot as plt"
   ]
  },
  {
   "cell_type": "markdown",
   "metadata": {},
   "source": [
    "## 1. Inspecting a DataFrame"
   ]
  },
  {
   "cell_type": "code",
   "execution_count": null,
   "metadata": {},
   "outputs": [],
   "source": [
    "# Print the head of the homelessness data\n",
    "print(homelessness.head())\n",
    "\n",
    "# Print information about homelessness: shows information on each of the columns, such as the data type and number of missing values\n",
    "print(homelessness.info())\n",
    "\n",
    "# Print the shape of homelessness:  returns the number of rows and columns of the DataFrame.\n",
    "print(homelessness.shape)\n",
    "\n",
    "# Print a description of homelessness:  calculates a few summary statistics for each column.\n",
    "print(homelessness.describe())\n",
    "# Print the column index of homelessness\n",
    "print(homelessness.columns)\n",
    "\n",
    "# Print the row index of homelessness\n",
    "print(homelessness.index)\n",
    "#Multiple aggregation\n",
    "sales[[\"temperature_c\", \"fuel_price_usd_per_l\", \"unemployment\"]].agg([np.mean,np.median])\n",
    "\n",
    "#Cumulative statistics \n",
    "sales[['col1','col2']].cummax() #returns a new Series where each element is the maximum of all previous elements up to that position\n"
   ]
  },
  {
   "cell_type": "markdown",
   "metadata": {},
   "source": [
    "## 2. Sorting and Subsetting"
   ]
  },
  {
   "cell_type": "code",
   "execution_count": null,
   "metadata": {},
   "outputs": [],
   "source": [
    "#Sort column\n",
    "dp.sort_value('column', ascending = True) #By default, it's true\n",
    "#Sort multiple\n",
    "dp.sort_value(['column1','column2'],ascending =[True,False] )\n",
    "#Subsetting column 1 \n",
    "dp[['column1','column2']]\n",
    "# Subsetting column 2\n",
    "col_sub = ['column1','column2']\n",
    "dp[col_sub]\n",
    "# Subsetting rows on condition\n",
    "dp[dp[column]>2]\n",
    "#Subsetting on multiple conditions\n",
    "dp[(condition1) & (condition2) ]\n",
    "dp[dp['colour'].isin(['black','red'])]"
   ]
  },
  {
   "cell_type": "markdown",
   "metadata": {},
   "source": [
    "## 3. Manipulating DataFrame"
   ]
  },
  {
   "cell_type": "code",
   "execution_count": null,
   "metadata": {},
   "outputs": [],
   "source": [
    "#Add a new column\n",
    "df['new_col'] = df['col'] * 100 \n",
    "## Drop Duplicates\n",
    "df.drop_duplicates(subset=['col1','col2'])"
   ]
  },
  {
   "cell_type": "markdown",
   "metadata": {},
   "source": [
    "## 4. Grouped Summary statistics"
   ]
  },
  {
   "cell_type": "code",
   "execution_count": null,
   "metadata": {},
   "outputs": [],
   "source": [
    "# Group by 'Department' and calculate mean salary\n",
    "grouped_mean = df.groupby('Department')['Salary'].mean()\n",
    "# Group by 'Department' and calculate sum and mean salary\n",
    "grouped_stats = df.groupby('Department')['Salary'].agg(['sum', 'mean'])"
   ]
  },
  {
   "cell_type": "markdown",
   "metadata": {},
   "source": [
    "## 5. Pivot Table"
   ]
  },
  {
   "cell_type": "code",
   "execution_count": null,
   "metadata": {},
   "outputs": [],
   "source": [
    "# Creating a pivot table\n",
    "#*.pivot_table() takes the mean of each group by default\n",
    "pivot = df.pivot_table(  \n",
    "                       values='Revenue', \n",
    "                       index='Date', \n",
    "                       columns='Department', \n",
    "                       aggfunc=[sum,np.mean],\n",
    "                       fill_value = 0, # fill na with 0\n",
    "                       margin = True # summing all rows and columns\n",
    "                       )\n",
    "\n"
   ]
  },
  {
   "cell_type": "markdown",
   "metadata": {},
   "source": [
    "## Slicing and Indexing DataFrames"
   ]
  },
  {
   "cell_type": "markdown",
   "metadata": {},
   "source": [
    "1. Explicit indexes"
   ]
  },
  {
   "cell_type": "code",
   "execution_count": null,
   "metadata": {},
   "outputs": [],
   "source": []
  }
 ],
 "metadata": {
  "language_info": {
   "name": "python"
  }
 },
 "nbformat": 4,
 "nbformat_minor": 2
}
