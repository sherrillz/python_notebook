{
 "cells": [
  {
   "cell_type": "markdown",
   "metadata": {},
   "source": [
    "# Sampling Data in Python\n"
   ]
  },
  {
   "cell_type": "markdown",
   "metadata": {},
   "source": [
    "## Basic Sampling"
   ]
  },
  {
   "cell_type": "code",
   "execution_count": null,
   "metadata": {},
   "outputs": [],
   "source": [
    "# Take 10 rows as sample\n",
    "pts_vs_flavor_samp = pts_vs_flavor_pop.sample(n=10)\n"
   ]
  },
  {
   "cell_type": "markdown",
   "metadata": {},
   "source": [
    "## Sampling Bias\n",
    "Convenience sampling—collecting data using the easiest method—can result in samples that aren't representative of the population.\n",
    "Visualizing the distributions of the population and the sample can help determine whether or not the sample is representative of the population.\n"
   ]
  },
  {
   "cell_type": "code",
   "execution_count": null,
   "metadata": {},
   "outputs": [],
   "source": [
    "# Visualize select bins\n",
    "coffee_ratings_first10[\"total_cup_points\"].hist(bins=np.arange(59,93, 2)) #! arange will stop at 91\n"
   ]
  }
 ],
 "metadata": {
  "language_info": {
   "name": "python"
  }
 },
 "nbformat": 4,
 "nbformat_minor": 2
}
