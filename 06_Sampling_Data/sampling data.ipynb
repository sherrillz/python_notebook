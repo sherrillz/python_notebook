{
 "cells": [
  {
   "cell_type": "markdown",
   "metadata": {},
   "source": [
    "# Sampling Data in Python\n"
   ]
  },
  {
   "cell_type": "markdown",
   "metadata": {},
   "source": [
    "## Basic Sampling"
   ]
  },
  {
   "cell_type": "code",
   "execution_count": null,
   "metadata": {},
   "outputs": [],
   "source": [
    "# Take 10 rows as sample\n",
    "pts_vs_flavor_samp = pts_vs_flavor_pop.sample(n=10)\n"
   ]
  },
  {
   "cell_type": "markdown",
   "metadata": {},
   "source": [
    "### Sampling Bias\n",
    "Convenience sampling—collecting data using the easiest method—can result in samples that aren't representative of the population.\n",
    "Visualizing the distributions of the population and the sample can help determine whether or not the sample is representative of the population.\n"
   ]
  },
  {
   "cell_type": "code",
   "execution_count": null,
   "metadata": {},
   "outputs": [],
   "source": [
    "# Visualize the hist of the whole dataset and a sample of the dataset\n",
    "coffee_ratings_first10[\"total_cup_points\"].hist(bins=np.arange(59,93, 2)) #! arange will stop at 91"
   ]
  },
  {
   "cell_type": "markdown",
   "metadata": {},
   "source": [
    "### Pseudo-random number generation\n"
   ]
  },
  {
   "cell_type": "code",
   "execution_count": null,
   "metadata": {},
   "outputs": [],
   "source": [
    "# Generate random numbers from a Uniform(-3, 3)\n",
    "uniforms = np.random.uniform(low=-3, high=3, size=5000)\n",
    "\n",
    "# Generate random numbers from a Normal(5, 2)\n",
    "normals = np.random.normal(loc=5,scale=2, size=5000)"
   ]
  },
  {
   "cell_type": "markdown",
   "metadata": {},
   "source": [
    "## Sampling Method"
   ]
  },
  {
   "cell_type": "code",
   "execution_count": null,
   "metadata": {},
   "outputs": [],
   "source": [
    "# simple random sampling\n",
    "# Sample 70 rows using simple random sampling and set the seed\n",
    "attrition_samp = attrition_pop.sample(n=70,random_state=18900217)\n",
    "\n",
    "# Systematic sampling\n",
    "# Systematic sampling - defining the interval\n",
    "sample_size = 5\n",
    "pop_size = len(coffee_ratings)\n",
    "interval = pop_size//sample_size\n",
    "# Select rows\n",
    "coffee_ratings.ilocl[::interval]\n",
    "#! Systematic sampling is only safe if we don't see a pattern in the dataset scatter plot\n",
    "coffee_ratings_with_id = coffee_ratings.reset_index()\n",
    "coffee_ratings_with_id.plot(x=\"index\", y=\"aftertaste\", kind=\"scatter\")plt.show()\n",
    "# How to make systematic sampling safe?\n",
    "#* Shuffling rows + systematic sampling is the same as simple random sampling\n",
    "shuffled =coffee_ratings.sample(frac=1)\n",
    "shuffled =shuffled.reset index(drop=True).reset index()\n",
    "shuffled.plot(x=\"index\",y=\"aftertaste\", kind=\"scatter\")\n",
    "plt.show()"
   ]
  }
 ],
 "metadata": {
  "language_info": {
   "name": "python"
  }
 },
 "nbformat": 4,
 "nbformat_minor": 2
}
