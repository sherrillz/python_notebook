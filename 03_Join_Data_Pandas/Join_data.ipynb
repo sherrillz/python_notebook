{
 "cells": [
  {
   "cell_type": "markdown",
   "metadata": {},
   "source": [
    "# Join Data in Pandas\n",
    "## Data Merging Basic\n",
    "### 1. Inner Join"
   ]
  },
  {
   "cell_type": "code",
   "execution_count": null,
   "metadata": {},
   "outputs": [],
   "source": [
    "# Inner Join\n",
    "import pandas as pd\n",
    "a_b = a.merge(b, on='ward') \n",
    "#* Data frame A will appear in front of data frame B\n",
    "# Duplicate columns will be named as column_x,column_y by default, to change this, we can use `suffixes =``\n",
    "a_b = a.merge(b, on='ward',suffixes=('_a','_b'))\n",
    "# Merge with different column name\n",
    "movies_and_scifi_only = movies.merge(scifi_only,left_on='id',right_on='id_sci',how='inner')\n",
    "\n",
    "# Left Join\n",
    "a_b = a.merge(b, on='ward',how = 'left') #* Left join will always return the same row as the left table\n",
    "\n",
    "# Outer Join - Return all the possible combination of 2 tables\n",
    "a_b = a.merge(b, on='ward',how = 'outer')\n",
    "\n",
    "# Merge to itself\n",
    "a_sequels = a.merge(a, left_on='a_ndex', right_on='id'how='left',suffixes=('_org','_seg'))\n",
    "\n",
    "# Index merge\n",
    "# If a dataframe has multiple index\n",
    "movies_genres = movies.merge(movie_to_genres, on=['id','movie_name'])\n",
    "# If indexes of two table are different\n",
    "movies_genres = movies.merge(movie_to_genres, left_on='id', left_index=True,right_on='movie_id', right_index=True)"
   ]
  },
  {
   "cell_type": "markdown",
   "metadata": {},
   "source": [
    "### 2. Multiple Join"
   ]
  },
  {
   "cell_type": "code",
   "execution_count": null,
   "metadata": {},
   "outputs": [],
   "source": [
    "#Merge 4 tables\n",
    "df1.merge(df2,on='col').merge(df3,on='col').merge(df4,on='col')\n",
    "# If the code is too long, it may cause error. Use '\\' to connect long code\n",
    "df1.merge(df2,on='col')\\\n",
    "    .merge(df3,on='col')\\\n",
    "        .merge(df4,on='col')\n"
   ]
  },
  {
   "cell_type": "markdown",
   "metadata": {},
   "source": [
    "## Filtering Join\n"
   ]
  },
  {
   "cell_type": "markdown",
   "metadata": {},
   "source": [
    "# anti join\n",
    "First merging the tables with a left join, selecting the ID of A who did not have B, and then subsetting the A."
   ]
  },
  {
   "cell_type": "code",
   "execution_count": null,
   "metadata": {},
   "outputs": [],
   "source": [
    "# Merge employees and top_cust\n",
    "empl_cust = employees.merge(top_cust, on='srid', \n",
    "                                 how='left', indicator=True)\n",
    "\n",
    "# Select the srid column where _merge is left_only\n",
    "srid_list = empl_cust.loc[empl_cust['_merge'] == 'left_only', 'srid']\n",
    "\n",
    "# Get employees not working with top customers\n",
    "print(employees[employees['srid'].isin(srid_list)])"
   ]
  }
 ],
 "metadata": {
  "language_info": {
   "name": "python"
  }
 },
 "nbformat": 4,
 "nbformat_minor": 2
}
