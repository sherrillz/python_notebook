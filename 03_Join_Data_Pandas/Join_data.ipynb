{
 "cells": [
  {
   "cell_type": "markdown",
   "metadata": {},
   "source": [
    "# Join Data in Pandas\n",
    "## Data Merging Basic\n",
    "### 1. Inner Join"
   ]
  },
  {
   "cell_type": "code",
   "execution_count": null,
   "metadata": {},
   "outputs": [],
   "source": [
    "# Inner Join\n",
    "import pandas as pd\n",
    "a_b = a.merge(b, on='ward') \n",
    "#* Data frame A will appear in front of data frame B\n",
    "# Duplicate columns will be named as column_x,column_y by default, to change this, we can use `suffixes =``\n",
    "a_b = a.merge(b, on='ward',suffixes=('_a','_b'))\n",
    "\n",
    "# Left Join\n",
    "a_b = a.merge(b, on='ward',how = 'left') #* Left join will always return the same row as the left table\n",
    "\n",
    "# Outer Join - Return all the possible combination of 2 tables\n",
    "a_b = a.merge(b, on='ward',how = 'outer')\n"
   ]
  },
  {
   "cell_type": "markdown",
   "metadata": {},
   "source": [
    "### 2. Multiple Join"
   ]
  },
  {
   "cell_type": "code",
   "execution_count": null,
   "metadata": {},
   "outputs": [],
   "source": [
    "#Merge 4 tables\n",
    "df1.merge(df2,on='col').merge(df3,on='col').merge(df4,on='col')\n",
    "# If the code is too long, it may cause error. Use '\\' to connect long code\n",
    "df1.merge(df2,on='col')\\\n",
    "    .merge(df3,on='col')\\\n",
    "        .merge(df4,on='col')\n"
   ]
  },
  {
   "cell_type": "markdown",
   "metadata": {},
   "source": [
    "### 3. Left Join"
   ]
  },
  {
   "cell_type": "code",
   "execution_count": null,
   "metadata": {},
   "outputs": [],
   "source": []
  }
 ],
 "metadata": {
  "language_info": {
   "name": "python"
  }
 },
 "nbformat": 4,
 "nbformat_minor": 2
}
