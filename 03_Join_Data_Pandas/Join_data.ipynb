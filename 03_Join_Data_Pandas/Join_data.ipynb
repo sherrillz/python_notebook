{
 "cells": [
  {
   "cell_type": "markdown",
   "metadata": {},
   "source": [
    "# Join Data in Pandas\n",
    "## Data Merging Basic\n",
    "### 1. Inner Join"
   ]
  },
  {
   "cell_type": "code",
   "execution_count": null,
   "metadata": {},
   "outputs": [],
   "source": [
    "# Inner Join\n",
    "import pandas as pd\n",
    "a_b = a.merge(b, on='ward') \n",
    "#* Data frame A will appear in front of data frame B\n",
    "# Duplicate columns will be named as column_x,column_y by default, to change this, we can use `suffixes =``\n",
    "a_b = a.merge(b, on='ward',suffixes=('_a','_b'))\n",
    "# Merge with different column name\n",
    "movies_and_scifi_only = movies.merge(scifi_only,left_on='id',right_on='id_sci',how='inner')\n",
    "\n",
    "# Left Join\n",
    "a_b = a.merge(b, on='ward',how = 'left') #* Left join will always return the same row as the left table\n",
    "\n",
    "# Outer Join - Return all the possible combination of 2 tables\n",
    "a_b = a.merge(b, on='ward',how = 'outer')\n",
    "\n",
    "# Merge to itself\n",
    "a_sequels = a.merge(a, left_on='a_ndex', right_on='id'how='left',suffixes=('_org','_seg'))\n",
    "\n",
    "# Index merge\n",
    "# If a dataframe has multiple index\n",
    "movies_genres = movies.merge(movie_to_genres, on=['id','movie_name'])\n",
    "# If indexes of two table are different\n",
    "movies_genres = movies.merge(movie_to_genres, left_on='id', left_index=True,right_on='movie_id', right_index=True)"
   ]
  },
  {
   "cell_type": "markdown",
   "metadata": {},
   "source": [
    "### 2. Multiple Join"
   ]
  },
  {
   "cell_type": "code",
   "execution_count": null,
   "metadata": {},
   "outputs": [],
   "source": [
    "#Merge 4 tables\n",
    "df1.merge(df2,on='col').merge(df3,on='col').merge(df4,on='col')\n",
    "# If the code is too long, it may cause error. Use '\\' to connect long code\n",
    "df1.merge(df2,on='col')\\\n",
    "    .merge(df3,on='col')\\\n",
    "        .merge(df4,on='col')\n"
   ]
  },
  {
   "cell_type": "markdown",
   "metadata": {},
   "source": [
    "## Filtering Join\n"
   ]
  },
  {
   "cell_type": "markdown",
   "metadata": {},
   "source": [
    "### anti join\n",
    "Returns the left table, excluding the intersection\n",
    "Returns only columns from the left table and not the right\n",
    "\n",
    "First merging the tables with a left join, selecting the ID of A who did not have B, and then subsetting the A."
   ]
  },
  {
   "cell_type": "code",
   "execution_count": null,
   "metadata": {},
   "outputs": [],
   "source": [
    "# Merge employees and top_cust\n",
    "empl_cust = employees.merge(top_cust, on='srid', \n",
    "                                 how='left', indicator=True)\n",
    "\n",
    "# Select the srid column where _merge is left_only\n",
    "srid_list = empl_cust.loc[empl_cust['_merge'] == 'left_only', 'srid']\n",
    "\n",
    "# Get employees not working with top customers\n",
    "print(employees[employees['srid'].isin(srid_list)])"
   ]
  },
  {
   "cell_type": "markdown",
   "metadata": {},
   "source": [
    "### semi join\n",
    "Returns the intersection, similar to an inner join\n",
    "Returns only columns from the left table and not the right"
   ]
  },
  {
   "cell_type": "code",
   "execution_count": null,
   "metadata": {},
   "outputs": [],
   "source": [
    "# Merge the non_mus_tcks and top_invoices tables on tid\n",
    "tracks_invoices = non_mus_tcks.merge(top_invoices,on = 'tid')\n",
    "\n",
    "# Use .isin() to subset non_mus_tcks to rows with tid in tracks_invoices\n",
    "top_tracks = non_mus_tcks[non_mus_tcks['tid'].isin(tracks_invoices['tid'])]\n",
    "\n",
    "# Group the top_tracks by gid and count the tid rows\n",
    "cnt_by_gid = top_tracks.groupby(['gid'], as_index=False).agg({'tid':\"count\"})\n",
    "\n",
    "# Merge the genres table to cnt_by_gid on gid and print\n",
    "print(cnt_by_gid.merge(genres,on='gid'))"
   ]
  },
  {
   "cell_type": "markdown",
   "metadata": {},
   "source": [
    "## Concatenate  Tables\n",
    "### Basic Concatenate"
   ]
  },
  {
   "cell_type": "code",
   "execution_count": null,
   "metadata": {},
   "outputs": [],
   "source": [
    "pd.concat([table_1,table_2,table_3])\n",
    "# Ignoring the index\n",
    "pd.concat([table_1,table_2,table_3],ignore_index=True) # set new index from 0 to n-1\n",
    "# Setting labels to original tables\n",
    "pd.concat([table_1,table_2,table_3],ignore_index=False,keys=['a','b','c']) \n",
    "# Concate with different column names\n",
    "pd.concat([table_1,table_2,table_3],sort = True)\n",
    "# Concate with different column names, only concat columns with the same name\n",
    "pd.concat([table_1,table_2,table_3],join = 'inner')\n"
   ]
  },
  {
   "cell_type": "markdown",
   "metadata": {},
   "source": [
    "## Validate before Merge or Concatenate\n",
    "**Validate Relationship:** Checks if merge is of specified type\n"
   ]
  },
  {
   "cell_type": "code",
   "execution_count": null,
   "metadata": {},
   "outputs": [],
   "source": [
    "tracks.merge(specs,on='tid'validate='one_to_one')\n",
    "# If the relationship is not one-to-one, will return error\n"
   ]
  },
  {
   "cell_type": "markdown",
   "metadata": {},
   "source": [
    "**Validate Duplicate index:**Check whether the new concatenated index contains duplicates\n",
    "Default value is ``False``"
   ]
  },
  {
   "cell_type": "code",
   "execution_count": null,
   "metadata": {},
   "outputs": [],
   "source": [
    "pd.concat([inv_feb,inv_mar]verify_integrity=True)"
   ]
  }
 ],
 "metadata": {
  "language_info": {
   "name": "python"
  }
 },
 "nbformat": 4,
 "nbformat_minor": 2
}
