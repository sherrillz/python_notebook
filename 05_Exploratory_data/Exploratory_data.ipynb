{
 "cells": [
  {
   "cell_type": "markdown",
   "metadata": {},
   "source": [
    "# Exploratory Data using Python"
   ]
  },
  {
   "cell_type": "code",
   "execution_count": null,
   "metadata": {},
   "outputs": [],
   "source": [
    "import pandas as pd\n",
    "# Load data\n",
    "unemployment = pd.read_csv('clean_unemployment.csv')\n",
    "# Initial look\n",
    "unemployment.head()\n",
    "unemployment.info()\n",
    "\n",
    "# A closer look at categorical columns\n",
    "unemployment.value_counts('catg_col')\n",
    "# numerical columns\n",
    "unemployment.describe()\n"
   ]
  }
 ],
 "metadata": {
  "language_info": {
   "name": "python"
  }
 },
 "nbformat": 4,
 "nbformat_minor": 2
}
