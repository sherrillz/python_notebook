{
 "cells": [
  {
   "cell_type": "markdown",
   "metadata": {},
   "source": [
    "# Exploratory Data using Python"
   ]
  },
  {
   "cell_type": "markdown",
   "metadata": {},
   "source": [
    "## Initial look"
   ]
  },
  {
   "cell_type": "code",
   "execution_count": null,
   "metadata": {},
   "outputs": [],
   "source": [
    "import pandas as pd\n",
    "import matplotlib.pyplot as plt\n",
    "import seaborn as sns\n",
    "import numpy as np\n",
    "# Load data\n",
    "unemployment = pd.read_csv('clean_unemployment.csv')\n",
    "books = pd.read_csv('clean_books.csv')\n",
    "salaries = pd.read_csv('sd_salaries_clean.csv')\n",
    "planes = pd.read_csv('planes.csv')\n",
    "# Initial look\n",
    "unemployment.head()\n",
    "unemployment.info()\n",
    "\n",
    "# A closer look at categorical columns\n",
    "unemployment.value_counts('catg_col')\n",
    "# numerical columns\n",
    "unemployment.describe()\n",
    "# hist plot for numerical columns\n",
    "sns.histplot(data=books,x=\"rating\",binwidth=1)"
   ]
  },
  {
   "cell_type": "markdown",
   "metadata": {},
   "source": [
    "## Data Validation"
   ]
  },
  {
   "cell_type": "code",
   "execution_count": null,
   "metadata": {},
   "outputs": [],
   "source": [
    "# Data type\n",
    "# can change the type to int/str/float/dict/list/bool\n",
    "df['column'] = df['column'].astype('int') \n",
    "\n",
    "# Validate categorical data\n",
    "df['catg_data'].isin(['first_data','second_data'])\n",
    "#* The data is not in\n",
    "~df['catg_data'].isin(['first_data','second_data'])\n",
    "\n",
    "# Validating Numeric Data\n",
    "df.select_types(\"number\")\n",
    "df['num_col'].min()\n",
    "df['num_col'].max()\n",
    "\n"
   ]
  },
  {
   "cell_type": "markdown",
   "metadata": {},
   "source": [
    "## Missing Data\n",
    "### 1. Detect Missing Data"
   ]
  },
  {
   "cell_type": "code",
   "execution_count": null,
   "metadata": {},
   "outputs": [],
   "source": [
    "#Detecting Missing Value\n",
    "df.isna() # Return each columns and rows\n",
    "#Detecting any Missing value\n",
    "df.isna().any() # Return T/F of the summary of column\n",
    "# Counting missing value\n",
    "df.isna().sum()\n",
    "# Plotting missing values\n",
    "df.isna().sum().plot(kind = 'bar')"
   ]
  },
  {
   "cell_type": "markdown",
   "metadata": {},
   "source": [
    "### 2. Dealing Missing Data\n",
    "\n",
    "- Drop missing values\n",
    "    5% or less of total values\n",
    "- Impute mean, median, mode\n",
    "    Depends on distribution and context\n",
    "- Impute by sub-group \n",
    "     Different experience levels have different median salary"
   ]
  },
  {
   "cell_type": "code",
   "execution_count": null,
   "metadata": {},
   "outputs": [],
   "source": [
    "# Checking for missing values\n",
    "df.isna().sum()\n",
    "\n",
    "# If the NA is only a small amount and doesn't really matter\n",
    "df.dropna()\n",
    "# Replace with 0\n",
    "df.fillna(0)\n",
    "\n",
    "# Find the columns that have the missing value <=0.5 total value\n",
    "threshold = len(salaries) * 0.05\n",
    "cols_to_drop = df.columns[salaries.isna().sum() <= threshold]\n",
    "# Drop the NA in these columns\n",
    "salaries.dropna(subset=cols_to_drop, inplace=True)\n",
    "\n",
    "# Impute a summary statistics\n",
    "cols_with_missing_values = df.columns[df.isna().sum()> 0]\n",
    "for col in cols_with_missing_values[:-1]:\n",
    "    df[col].fillna(df[col].mode()[0])\n",
    "\n",
    "# Impute by sub-group\n",
    "salaries_dict = salaries.groupby(\"Experience\")[\"Salary_UsD\"].median().to_dict()\n",
    "# Output: {'Entry':!55380.0，'Executive':135439.0，'Mid':74173.5，'Senior':128903.0}\n",
    "salaries[\"Salary UsD\"] = salaries[\"Salary usp\"].fillna(salaries[\"Experience\"].map(salaries_dict))\n"
   ]
  },
  {
   "cell_type": "markdown",
   "metadata": {},
   "source": [
    "## Analyzing Categorical Data"
   ]
  },
  {
   "cell_type": "code",
   "execution_count": null,
   "metadata": {},
   "outputs": [],
   "source": [
    "# Preview Categorical data\n",
    "salaries.select_dtypes('object').head()\n",
    "# Count data under column\n",
    "salaries['Designation'].value_counts()\n",
    "# Check number of unique value\n",
    "salaries['Designation'].nunique()"
   ]
  },
  {
   "cell_type": "markdown",
   "metadata": {},
   "source": [
    "### 1. Extracting value from categories"
   ]
  },
  {
   "cell_type": "code",
   "execution_count": null,
   "metadata": {},
   "outputs": [],
   "source": [
    "# Search a column for a specific string or multiple strings\n",
    "salaries[\"Designation\"].str.contains(\"Scientist\")\n",
    "# Finding multiple phrases in strings - using ``|``\n",
    "salaries[\"Designation\"].str.contains(\"Machine Learning|AI\")\n",
    "# Any that start with Data - using ``^``\n",
    "salaries[\"Designation\"].str.contains(\"^Data\")\n",
    "\n",
    "# Create a category column based on string conditions\n",
    "job_categories =[\"Data Science\",\"Data Analytics\",\"Data Engineering\",\n",
    "                  \"Machine Learning\"\"Consultant\",\"Managerial\"]\n",
    "\n",
    "# Create keywords for each job title\n",
    "data_science =\"Data Scientist|NLP\"\n",
    "data_analyst =\"Analyst|Analytics\"\n",
    "data_engineer = \"Data Engineer|ETL Architect|Infrastructure\"\n",
    "ml_engineer =\"Machine Learning|ML|Big Data|AI\"\n",
    "manager =\"Manager|Head|Director|Lead|Principal|Staff\"\n",
    "consultant=\"Consultant|Freelance\"\n",
    "\n",
    "# Create condition for each job title\n",
    "conditions = [\n",
    "    (salaries[\"Designation\"].str.contains(data_science)),\n",
    "    (salaries[\"Designation\"].str.contains(data_analyst)),\n",
    "    (salaries[\"Designation\"].str.contains(data_engineer)),\n",
    "    (salaries[\"Designation\"].str.contains(ml_engineer)),\n",
    "    (salaries[\"Designation\"].str.contains(manager))\n",
    "]\n",
    "\n",
    "# Create Category column\n",
    "salaries[\"Job_Category\"]=np.select(\n",
    "    conditions,\n",
    "    job_categories,\n",
    "    default=\"Other\")"
   ]
  },
  {
   "cell_type": "markdown",
   "metadata": {},
   "source": [
    "#  1"
   ]
  }
 ],
 "metadata": {
  "language_info": {
   "name": "python"
  }
 },
 "nbformat": 4,
 "nbformat_minor": 2
}
