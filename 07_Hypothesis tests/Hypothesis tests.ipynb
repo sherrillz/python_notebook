{
 "cells": [
  {
   "cell_type": "markdown",
   "metadata": {},
   "source": [
    "# Hypothesis tests and z-scores"
   ]
  },
  {
   "cell_type": "code",
   "execution_count": null,
   "metadata": {},
   "outputs": [],
   "source": [
    "# Hypothesize that the proportion is 6%\n",
    "late_prop_hyp = 0.06\n",
    "\n",
    "# Calculate the standard error\n",
    "std_error = np.std(late_shipments_boot_distn,ddof=1)\n",
    "\n",
    "# Find z-score of late_prop_samp\n",
    "z_score = (late_prop_samp.mean()-0.06)/std_error\n",
    "\n",
    "# Print z_score\n",
    "print(z_score)"
   ]
  }
 ],
 "metadata": {
  "language_info": {
   "name": "python"
  }
 },
 "nbformat": 4,
 "nbformat_minor": 2
}
